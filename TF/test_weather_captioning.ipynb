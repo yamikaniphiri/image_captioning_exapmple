{
 "cells": [
  {
   "cell_type": "code",
   "execution_count": 63,
   "metadata": {},
   "outputs": [],
   "source": [
    "import numpy as np\n",
    "import pandas as pd\n",
    "import os\n",
    "import tensorflow as tf\n",
    "from tqdm import tqdm\n",
    "from tensorflow.keras.preprocessing.image import ImageDataGenerator, load_img, img_to_array\n",
    "from tensorflow.keras.preprocessing.text import Tokenizer\n",
    "from tensorflow.keras.preprocessing.sequence import pad_sequences\n",
    "from tensorflow.keras.utils import Sequence,plot_model\n",
    "from tensorflow.keras.utils import to_categorical\n",
    "from tensorflow.keras.models import Sequential, Model\n",
    "from tensorflow.keras.layers import Conv2D, MaxPooling2D, GlobalAveragePooling2D, Activation, Dropout, Flatten, Dense, Input, Layer\n",
    "from tensorflow.keras.layers import Embedding, LSTM, add, Concatenate, Reshape, concatenate, Bidirectional\n",
    "from tensorflow.keras.applications import VGG16, ResNet50, DenseNet201\n",
    "from tensorflow.keras.optimizers import Adam\n",
    "from tensorflow.keras.callbacks import ModelCheckpoint, EarlyStopping, ReduceLROnPlateau\n",
    "# from keras.utils.vis_utils import plot_model\n",
    "from tensorflow.keras.applications.vgg16 import VGG16 , preprocess_input\n",
    "import warnings\n",
    "import matplotlib.pyplot as plt\n",
    "import seaborn as sns\n",
    "from textwrap import wrap\n",
    "import pickle \n",
    "import pandas as pd\n",
    "from sklearn.model_selection import train_test_split\n",
    "\n",
    "from nltk.translate.bleu_score import corpus_bleu\n",
    "plt.rcParams['font.size'] = 12\n",
    "sns.set_style(\"dark\")\n",
    "warnings.filterwarnings('ignore')"
   ]
  },
  {
   "cell_type": "code",
   "execution_count": 64,
   "metadata": {},
   "outputs": [],
   "source": [
    "BASE_DIR = './weather_Dataset'\n",
    "WORKING_DIR = './'"
   ]
  },
  {
   "cell_type": "code",
   "execution_count": 65,
   "metadata": {},
   "outputs": [
    {
     "data": {
      "text/plain": [
       "Index(['TempHighF', 'TempAvgF', 'TempLowF', 'DewPointHighF', 'DewPointAvgF',\n",
       "       'DewPointLowF', 'HumidityHighPercent', 'HumidityAvgPercent',\n",
       "       'HumidityLowPercent', 'SeaLevelPressureHighInches',\n",
       "       'SeaLevelPressureAvgInches', 'SeaLevelPressureLowInches',\n",
       "       'VisibilityHighMiles', 'VisibilityAvgMiles', 'VisibilityLowMiles',\n",
       "       'WindHighMPH', 'WindAvgMPH', 'WindGustMPH'],\n",
       "      dtype='object')"
      ]
     },
     "execution_count": 65,
     "metadata": {},
     "output_type": "execute_result"
    }
   ],
   "source": [
    "\n",
    "Weather_data = pd.read_csv('./Weather_Dataset/weather_data_1.csv')\n",
    "Weather_data = Weather_data.drop('Serial_ID', axis=1)\n",
    "Weather_data.columns"
   ]
  },
  {
   "cell_type": "code",
   "execution_count": 66,
   "metadata": {},
   "outputs": [
    {
     "data": {
      "text/plain": [
       "'1001,A child in a pink dress is climbing up a set of stairs in an entry way .\\n1001,A girl going into a wooden building .\\n1001,A little girl climbing into a wooden playhouse .\\n1001,A little girl climbing the stairs to her playhouse .\\n1001,A little girl in a pink dress going into a wooden cabin .\\n1002,A black dog and a spotted dog are fighting\\n1002,A black dog and a tri-colored dog playing with each other on the road .\\n1002,A black dog and a white dog with brown spots are staring at each other in the street .\\n1002,Two dogs of different breeds looking at each other on the road .\\n1002,Two dogs on pavement moving toward each other .\\n1003,A little girl covered in paint sits in front of a painted rainbow with her hands in a bowl .\\n1003,A little girl is sitting in front of a large painted rainbow .\\n1003,A small girl in the grass plays with fingerpaints in front of a white canvas with a rainbow on it .\\n1003,There is a girl with pigtails sitting in front of a rainbow painting .\\n1003,Young girl with pigtails painting outside in the grass .\\n1004,A man lays on a bench while his dog sits by him .\\n1004,A man lays on the bench to which a white dog is also tied .\\n1004,a man sleeping on a bench outside with a white and black dog sitting next to him .\\n1004,A shirtless man lies on a park bench with his dog .\\n1004,man laying on bench holding leash of dog sitting on ground\\n1005,A man in an orange hat starring at something .\\n1005,A man wears an orange hat and glasses .\\n1005,A man with gauges and glasses is wearing a Blitz hat .\\n1005,A man with glasses is wearing a beer can crocheted hat .\\n1005,The man with pierced ears is wearing glasses and an orange hat .\\n1006,A child playing on a rope net .\\n1006,A little girl climbing on red roping .\\n1006,A little girl in pink climbs a rope bridge at the park .\\n1006,A small child grips onto the red ropes at the playground .\\n1006,The small child climbs on a red ropes on a playground .\\n1007,A black and white dog is running in a grassy garden surrounded by a white fence .\\n1007,A black and white dog is running through the grass .\\n1007,A Boston terrier is running in the grass .\\n1007,A Boston Terrier is running on lush green grass in front of a white fence .\\n1007,A dog runs on the green grass near a wooden fence .\\n1008,\"A dog shakes its head near the shore , a red ball next to it .\"\\n1008,A white dog shakes on the edge of a beach with an orange ball .\\n1008,\"Dog with orange ball at feet , stands on shore shaking off water\"\\n1008,White dog playing with a red ball on the shore near the water .\\n1008,White dog with brown ears standing near water with head turned to one side .\\n1009,A boy smiles in front of a stony wall in a city .\\n1009,A little boy is standing on the street while a man in overalls is working on a stone wall .\\n1009,A young boy runs aross the street .\\n1009,A young child is walking on a stone paved street with a metal pole and a man behind him .\\n1009,Smiling boy in white shirt and blue jeans in front of rock wall with man in overalls behind him .\\n1010,A black dog leaps over a log .\\n1010,A grey dog is leaping over a fallen tree .\\n1010,A large black dog leaps a fallen log .\\n1010,A mottled black and grey dog in a blue collar jumping over a fallen tree .\\n1010,The black dog jumped the tree stump .\\n1011,A brown and white dog is running through the snow .\\n1011,A dog is running in the snow\\n1011,A dog running through snow .\\n1011,a white and brown dog is running through a snow covered field .\\n1011,The white and brown dog is running over the surface of the snow .\\n1012,A man in a hat is displaying pictures next to a skier in a blue hat .\\n1012,A man skis past another man displaying paintings in the snow .\\n1012,A person wearing skis looking at framed pictures set up in the snow .\\n1012,A skier looks at framed pictures in the snow next to trees .\\n1012,Man on skis looking at artwork for sale in the snow\\n1013,A collage of one person climbing a cliff .\\n1013,A group of people are rock climbing on a rock climbing wall .\\n1013,A group of people climbing a rock while one man belays\\n1013,Seven climbers are ascending a rock face whilst another man stands holding the rope .\\n1013,Several climbers in a row are climbing the rock while the man in red watches and holds the line .\\n1014,A brown dog chases the water from a sprinkler on a lawn .\\n1014,a brown dog plays with the hose .\\n1014,A brown dog running on a lawn near a garden hose\\n1014,A dog is playing with a hose .\\n1014,Large brown dog running away from the sprinkler in the grass .\\n1015,A dog prepares to catch a thrown object in a field with nearby cars .\\n1015,A white dog is about to catch a yellow ball in its mouth .\\n1015,A white dog is about to catch a yellow dog toy .\\n1015,A white dog is ready to catch a yellow ball flying through the air .\\n1015,A white dog running after a yellow ball\\n1016,a black and white dog jumping in the air to get a toy .\\n1016,A black and white dog jumps up towards a yellow toy .\\n1016,A dog leaps to catch a ball in a field .\\n1016,A white dog is trying to catch a ball in midair over a grassy field .\\n1016,The white dog is playing in a green field with a yellow toy .\\n1017,A child and a woman are at waters edge in a big city .\\n1017,a large lake with a lone duck swimming in it with several people around the edge of it .\\n1017,A little boy at a lake watching a duck .\\n1017,A young boy waves his hand at the duck in the water surrounded by a green park .\\n1017,\"Two people are at the edge of a lake , facing the water and the city skyline .\"\\n1018,\"A couple and an infant , being held by the male , sitting next to a pond with a near by stroller .\"\\n1018,A couple sit on the grass with a baby and stroller .\\n1018,A couple with their newborn baby sitting under a tree facing a lake .\\n1018,A man and woman care for an infant along the side of a body of water .\\n1018,Couple with a baby sit outdoors next to their stroller .\\n1019,A black dog running in the surf .\\n1019,A black lab with tags frolicks in the water .\\n1019,A dog splashes in the water\\n1019,The black dog runs through the water .\\n1019,This is a black dog splashing in the water .\\n1020,A man drilling a hole in the ice .\\n1020,A man is drilling through the frozen ice of a pond .\\n1020,A person in the snow drilling a hole in the ice .\\n1020,A person standing on a frozen lake .\\n1020,Two men are ice fishing .\\n1021,Two different breeds of brown and white dogs play on the beach .\\n1021,Two dogs are making a turn on a soft sand beach .\\n1021,Two dogs playing in the sand at the beach .\\n1021,Two dogs playing together on a beach .\\n1021,Two large tan dogs play along a sandy beach .\\n1022,A man uses ice picks and crampons to scale ice .\\n1022,an ice climber in a blue jacket and black pants is scaling a frozen ice wall .\\n1022,An ice climber scaling a frozen waterfall .\\n1022,A person in blue and red ice climbing with two picks .\\n1022,Climber climbing an ice wall\\n1023,A black dog carries a green toy in his mouth as he walks through the grass .\\n1023,A black dog carrying something through the grass .\\n1023,A black dog has a blue toy in its mouth .\\n1023,A dog in grass with a blue item in his mouth .\\n1023,A wet black dog is carrying a green toy through the grass .\\n'"
      ]
     },
     "execution_count": 66,
     "metadata": {},
     "output_type": "execute_result"
    }
   ],
   "source": [
    "with open(os.path.join(BASE_DIR, 'climate_data_sample_1.csv'), 'r') as f:\n",
    "    next(f)\n",
    "    captions_doc = f.read()\n",
    "\n",
    "captions_doc"
   ]
  },
  {
   "cell_type": "code",
   "execution_count": 67,
   "metadata": {},
   "outputs": [
    {
     "name": "stderr",
     "output_type": "stream",
     "text": [
      "100%|██████████| 116/116 [00:00<00:00, 115842.68it/s]\n"
     ]
    }
   ],
   "source": [
    "# create mapping of image to captions\n",
    "mapping = {}\n",
    "# process lines\n",
    "for line in tqdm(captions_doc.split('\\n')):\n",
    "    # print(\"--> \", line)\n",
    "    # split the line by comma(,)\n",
    "    tokens = line.split(',')\n",
    "    if len(line) < 2:\n",
    "        continue\n",
    "    image_id, caption = tokens[0], tokens[1:]\n",
    "    # remove extension from image ID\n",
    "    image_id = image_id.split('.')[0]\n",
    "    # convert caption list to string\n",
    "    caption = \" \".join(caption)\n",
    "    # create list if needed\n",
    "    if image_id not in mapping:\n",
    "        mapping[image_id] = []\n",
    "    # store the caption\n",
    "    mapping[image_id].append(caption)"
   ]
  },
  {
   "cell_type": "code",
   "execution_count": 68,
   "metadata": {},
   "outputs": [
    {
     "data": {
      "text/plain": [
       "23"
      ]
     },
     "execution_count": 68,
     "metadata": {},
     "output_type": "execute_result"
    }
   ],
   "source": [
    "len(mapping)\n",
    "# mapping"
   ]
  },
  {
   "cell_type": "code",
   "execution_count": 69,
   "metadata": {},
   "outputs": [],
   "source": [
    "def clean(mapping):\n",
    "    for key, captions in mapping.items():\n",
    "        for i in range(len(captions)):\n",
    "            # take one caption at a time\n",
    "            caption = captions[i]\n",
    "            # preprocessing steps\n",
    "            # convert to lowercase\n",
    "            caption = caption.lower()\n",
    "            # delete digits, special chars, etc., \n",
    "            caption = caption.replace('[^A-Za-z]', '')\n",
    "            # delete additional spaces\n",
    "            caption = caption.replace('\\s+', ' ')\n",
    "            # add start and end tags to the caption\n",
    "            caption = 'startseq ' + \" \".join([word for word in caption.split() if len(word)>1]) + ' endseq'\n",
    "            captions[i] = caption\n",
    "\n",
    "clean(mapping)"
   ]
  },
  {
   "cell_type": "code",
   "execution_count": 70,
   "metadata": {},
   "outputs": [
    {
     "data": {
      "text/plain": [
       "['startseq child in pink dress is climbing up set of stairs in an entry way endseq',\n",
       " 'startseq girl going into wooden building endseq',\n",
       " 'startseq little girl climbing into wooden playhouse endseq',\n",
       " 'startseq little girl climbing the stairs to her playhouse endseq',\n",
       " 'startseq little girl in pink dress going into wooden cabin endseq']"
      ]
     },
     "execution_count": 70,
     "metadata": {},
     "output_type": "execute_result"
    }
   ],
   "source": [
    "mapping['1001']"
   ]
  },
  {
   "cell_type": "code",
   "execution_count": 71,
   "metadata": {},
   "outputs": [
    {
     "data": {
      "text/plain": [
       "['startseq child in pink dress is climbing up set of stairs in an entry way endseq',\n",
       " 'startseq girl going into wooden building endseq',\n",
       " 'startseq little girl climbing into wooden playhouse endseq',\n",
       " 'startseq little girl climbing the stairs to her playhouse endseq',\n",
       " 'startseq little girl in pink dress going into wooden cabin endseq',\n",
       " 'startseq black dog and spotted dog are fighting endseq',\n",
       " 'startseq black dog and tri-colored dog playing with each other on the road endseq',\n",
       " 'startseq black dog and white dog with brown spots are staring at each other in the street endseq',\n",
       " 'startseq two dogs of different breeds looking at each other on the road endseq',\n",
       " 'startseq two dogs on pavement moving toward each other endseq']"
      ]
     },
     "execution_count": 71,
     "metadata": {},
     "output_type": "execute_result"
    }
   ],
   "source": [
    "all_captions = []\n",
    "for key in mapping:\n",
    "    for caption in mapping[key]:\n",
    "        all_captions.append(caption)\n",
    "\n",
    "all_captions[:10]"
   ]
  },
  {
   "cell_type": "code",
   "execution_count": 74,
   "metadata": {},
   "outputs": [
    {
     "data": {
      "text/plain": [
       "303"
      ]
     },
     "execution_count": 74,
     "metadata": {},
     "output_type": "execute_result"
    }
   ],
   "source": [
    "# tokenize the text\n",
    "tokenizer = Tokenizer()\n",
    "tokenizer.fit_on_texts(all_captions)\n",
    "vocab_size = len(tokenizer.word_index) + 1\n",
    "vocab_size"
   ]
  },
  {
   "cell_type": "code",
   "execution_count": 75,
   "metadata": {},
   "outputs": [
    {
     "data": {
      "text/plain": [
       "21"
      ]
     },
     "execution_count": 75,
     "metadata": {},
     "output_type": "execute_result"
    }
   ],
   "source": [
    "max_length = max(len(caption.split()) for caption in all_captions)\n",
    "max_length"
   ]
  },
  {
   "cell_type": "code",
   "execution_count": 87,
   "metadata": {},
   "outputs": [
    {
     "data": {
      "text/plain": [
       "['1001',\n",
       " '1002',\n",
       " '1003',\n",
       " '1004',\n",
       " '1005',\n",
       " '1006',\n",
       " '1007',\n",
       " '1008',\n",
       " '1009',\n",
       " '1010']"
      ]
     },
     "execution_count": 87,
     "metadata": {},
     "output_type": "execute_result"
    }
   ],
   "source": [
    "image_ids = list(mapping.keys())\n",
    "split = int(len(image_ids) * 0.90)\n",
    "train = image_ids[:split]\n",
    "test = image_ids[split:]\n",
    "image_ids[:10]"
   ]
  },
  {
   "cell_type": "code",
   "execution_count": 77,
   "metadata": {},
   "outputs": [
    {
     "data": {
      "text/plain": [
       "'1001,74,60,45,67,49,43,93,75,57,29.86,29.68,29.59,10,7,2,20,4,31\\n1002,56,48,39,43,36,28,93,68,43,30.41,30.13,29.87,10,10,5,16,6,25\\n1003,58,45,32,31,27,23,76,52,27,30.56,30.49,30.41,10,10,10,8,3,12\\n1004,61,46,31,36,28,21,89,56,22,30.56,30.45,30.3,10,10,7,12,4,20\\n1005,58,50,41,44,40,36,86,71,56,30.41,30.33,30.27,10,10,7,10,2,16\\n1006,57,48,39,39,36,33,79,63,47,30.47,30.4,30.34,10,9,7,12,3,17\\n1007,60,53,45,41,39,37,83,65,47,30.46,30.39,30.34,10,9,7,7,1,11\\n1008,62,51,40,43,39,33,92,64,36,30.33,30.17,30.04,10,10,7,10,2,14\\n1009,64,50,36,49,41,28,92,76,60,30.31,30.1,29.99,10,10,4,17,5,24\\n1010,44,40,35,31,26,21,75,60,45,30.44,30.33,30.26,10,10,10,13,5,21\\n1011,55,46,36,31,28,23,76,54,32,30.49,30.39,30.27,10,10,10,8,1,12\\n1012,69,54,39,51,42,30,83,68,52,30.25,30.11,30.01,10,10,8,13,4,22\\n1013,55,44,33,39,26,19,83,55,26,30.49,30.37,30.15,10,10,9,21,8,31\\n1014,58,43,28,37,22,18,75,49,22,30.48,30.35,30.14,10,10,10,14,4,21\\n1015,71,57,42,55,48,38,89,68,47,30.12,29.95,29.81,10,10,8,16,7,28\\n1016,59,47,34,54,32,15,87,59,31,30.48,30.08,29.79,10,10,4,21,10,34\\n1017,36,29,22,15,8,2,50,38,26,30.8,30.68,30.5,10,10,10,17,7,27\\n1018,48,35,22,29,11,4,68,43,17,30.66,30.52,30.36,10,10,10,13,5,22\\n1019,53,47,40,51,45,30,93,75,57,30.33,30.2,30.12,10,2,1,12,1,18\\n1020,70,62,53,60,55,50,93,80,66,30.18,30.11,30,10,4,0,12,3,19\\n1021,72,65,57,64,61,54,93,81,68,29.97,29.87,29.75,10,8,1,13,6,21\\n1022,75,62,48,54,37,20,93,53,13,30.16,30.06,29.87,10,9,5,12,3,19\\n1023,67,57,46,58,47,33,84,68,52,30.12,30.01,29.9,10,10,10,15,4,24\\n'"
      ]
     },
     "execution_count": 77,
     "metadata": {},
     "output_type": "execute_result"
    }
   ],
   "source": [
    "with open(os.path.join(BASE_DIR, 'weather_data_1.csv'), 'r') as f:\n",
    "    next(f)\n",
    "    features_weathers = f.read()\n",
    "\n",
    "features_weathers"
   ]
  },
  {
   "cell_type": "code",
   "execution_count": 78,
   "metadata": {},
   "outputs": [
    {
     "name": "stderr",
     "output_type": "stream",
     "text": [
      "100%|██████████| 24/24 [00:00<00:00, 1949.25it/s]\n"
     ]
    },
    {
     "data": {
      "text/plain": [
       "(list, 18)"
      ]
     },
     "execution_count": 78,
     "metadata": {},
     "output_type": "execute_result"
    }
   ],
   "source": [
    "# create mapping of image to captions\n",
    "feature_1 = {}\n",
    "# process lines\n",
    "for line in tqdm(features_weathers.split('\\n')):\n",
    "    # print(\"--> \", line)\n",
    "    # split the line by comma(,)\n",
    "    tokens = line.split(',')\n",
    "    if len(line) < 2:\n",
    "        continue\n",
    "    image_id, caption = tokens[0], tokens[1:]\n",
    "    weather_raw_info = []\n",
    "    for item in caption:\n",
    "        weather_raw_info.append(float(item))\n",
    "        \n",
    "    # print(weather_raw_info)\n",
    "   \n",
    "    # remove extension from image ID\n",
    "    image_id = image_id.split('.')[0]\n",
    "    # convert caption list to string\n",
    "    # create list if needed\n",
    "    if image_id not in feature_1:\n",
    "        feature_1[image_id] = []\n",
    "    # store the caption\n",
    "        \n",
    "    weather_raw_info_nd_array = np.asarray(weather_raw_info)\n",
    "    # print(weather_raw_info_nd_array)\n",
    "    feature_1[image_id].append(np.asarray(weather_raw_info_nd_array))\n",
    "\n",
    "type(feature_1['1001']),len(feature_1['1001'][0])"
   ]
  },
  {
   "cell_type": "code",
   "execution_count": 79,
   "metadata": {},
   "outputs": [],
   "source": [
    "# create data generator to get data in batch (avoids session crash)\n",
    "def data_generator(data_keys, mapping, features, tokenizer, max_length, vocab_size, batch_size):\n",
    "    # loop over images\n",
    "    X1, X2, y = list(), list(), list()\n",
    "    n = 0\n",
    "    while 1:\n",
    "        for key in data_keys:\n",
    "            n += 1\n",
    "            captions = mapping[key]\n",
    "            # process each caption\n",
    "            for caption in captions:\n",
    "                # encode the sequence\n",
    "                seq = tokenizer.texts_to_sequences([caption])[0]\n",
    "                # split the sequence into X, y pairs\n",
    "                for i in range(1, len(seq)):\n",
    "                    # split into input and output pairs\n",
    "                    in_seq, out_seq = seq[:i], seq[i]\n",
    "                    # pad input sequence\n",
    "                    in_seq = pad_sequences([in_seq], maxlen=max_length)[0]\n",
    "                    # encode output sequence\n",
    "                    out_seq = to_categorical([out_seq],num_classes=vocab_size)[0]\n",
    "                    # store the sequences\n",
    "                    X1.append(features[key][0])\n",
    "                    X2.append(in_seq)\n",
    "                    y.append(out_seq)\n",
    "            if n == batch_size:\n",
    "                X1, X2, y = np.array(X1), np.array(X2), np.array(y)\n",
    "                yield [X1, X2], y\n",
    "                X1, X2, y = list(), list(), list()\n",
    "                n = 0"
   ]
  },
  {
   "cell_type": "code",
   "execution_count": 94,
   "metadata": {},
   "outputs": [
    {
     "data": {
      "image/png": "[encoded data removed]",
      "text/plain": [
       "<IPython.core.display.Image object>"
      ]
     },
     "execution_count": 94,
     "metadata": {},
     "output_type": "execute_result"
    }
   ],
   "source": [
    "# encoder model\n",
    "# image feature layers\n",
    "inputs1 = Input(shape=(18,))\n",
    "fe1 = Dropout(0.4)(inputs1)\n",
    "fe2 = Dense(256, activation='relu')(fe1)\n",
    "# sequence feature layers\n",
    "inputs2 = Input(shape=(max_length,))\n",
    "se1 = Embedding(vocab_size, 256, mask_zero=True)(inputs2)\n",
    "se2 = Dropout(0.4)(se1)\n",
    "se3 = LSTM(256)(se2)\n",
    "\n",
    "# decoder model\n",
    "decoder1 = add([fe2, se3])\n",
    "decoder2 = Dense(256, activation='relu')(decoder1)\n",
    "outputs = Dense(vocab_size, activation='softmax')(decoder2)\n",
    "\n",
    "model = Model(inputs=[inputs1, inputs2], outputs=outputs)\n",
    "model.compile(loss='categorical_crossentropy', optimizer='adam')\n",
    "\n",
    "# plot the model\n",
    "plot_model(model, show_shapes=True)"
   ]
  },
  {
   "cell_type": "code",
   "execution_count": 93,
   "metadata": {},
   "outputs": [
    {
     "name": "stdout",
     "output_type": "stream",
     "text": [
      "Model: \"model_3\"\n",
      "__________________________________________________________________________________________________\n",
      " Layer (type)                Output Shape                 Param #   Connected to                  \n",
      "==================================================================================================\n",
      " input_8 (InputLayer)        [(None, 21)]                 0         []                            \n",
      "                                                                                                  \n",
      " input_7 (InputLayer)        [(None, 18)]                 0         []                            \n",
      "                                                                                                  \n",
      " embedding_3 (Embedding)     (None, 21, 256)              77568     ['input_8[0][0]']             \n",
      "                                                                                                  \n",
      " dropout_6 (Dropout)         (None, 18)                   0         ['input_7[0][0]']             \n",
      "                                                                                                  \n",
      " dropout_7 (Dropout)         (None, 21, 256)              0         ['embedding_3[0][0]']         \n",
      "                                                                                                  \n",
      " dense_9 (Dense)             (None, 256)                  4864      ['dropout_6[0][0]']           \n",
      "                                                                                                  \n",
      " lstm_3 (LSTM)               (None, 256)                  525312    ['dropout_7[0][0]']           \n",
      "                                                                                                  \n",
      " add_3 (Add)                 (None, 256)                  0         ['dense_9[0][0]',             \n",
      "                                                                     'lstm_3[0][0]']              \n",
      "                                                                                                  \n",
      " dense_10 (Dense)            (None, 256)                  65792     ['add_3[0][0]']               \n",
      "                                                                                                  \n",
      " dense_11 (Dense)            (None, 303)                  77871     ['dense_10[0][0]']            \n",
      "                                                                                                  \n",
      "==================================================================================================\n",
      "Total params: 751407 (2.87 MB)\n",
      "Trainable params: 751407 (2.87 MB)\n",
      "Non-trainable params: 0 (0.00 Byte)\n",
      "__________________________________________________________________________________________________\n"
     ]
    }
   ],
   "source": [
    "model.summary()"
   ]
  },
  {
   "cell_type": "code",
   "execution_count": 82,
   "metadata": {},
   "outputs": [
    {
     "name": "stdout",
     "output_type": "stream",
     "text": [
      "1/1 [==============================] - 18s 18s/step - loss: 21.5646\n",
      "1/1 [==============================] - 1s 592ms/step - loss: 17.1828\n",
      "1/1 [==============================] - 1s 643ms/step - loss: 14.0407\n",
      "1/1 [==============================] - 1s 541ms/step - loss: 12.2181\n",
      "1/1 [==============================] - 0s 458ms/step - loss: 10.8960\n",
      "1/1 [==============================] - 1s 541ms/step - loss: 9.7735\n",
      "1/1 [==============================] - 0s 466ms/step - loss: 9.0729\n",
      "1/1 [==============================] - 0s 462ms/step - loss: 8.5503\n",
      "1/1 [==============================] - 0s 442ms/step - loss: 7.7280\n",
      "1/1 [==============================] - 0s 451ms/step - loss: 7.4248\n",
      "1/1 [==============================] - 0s 456ms/step - loss: 6.8663\n",
      "1/1 [==============================] - 0s 415ms/step - loss: 6.8767\n",
      "1/1 [==============================] - 0s 394ms/step - loss: 6.6167\n",
      "1/1 [==============================] - 0s 389ms/step - loss: 6.4244\n",
      "1/1 [==============================] - 0s 389ms/step - loss: 6.1724\n",
      "1/1 [==============================] - 0s 390ms/step - loss: 6.0387\n",
      "1/1 [==============================] - 0s 470ms/step - loss: 5.9667\n",
      "1/1 [==============================] - 0s 437ms/step - loss: 5.8375\n",
      "1/1 [==============================] - 0s 420ms/step - loss: 5.6671\n",
      "1/1 [==============================] - 0s 393ms/step - loss: 5.6042\n"
     ]
    }
   ],
   "source": [
    "# train the model\n",
    "epochs = 20\n",
    "batch_size = 16\n",
    "steps = len(train) // batch_size\n",
    "\n",
    "for i in range(epochs):\n",
    "    # create data generator\n",
    "    generator = data_generator(train, mapping, feature_1, tokenizer, max_length, vocab_size, batch_size)\n",
    "    # fit for one epoch\n",
    "    model.fit(generator, epochs=1, steps_per_epoch=steps, verbose=1)"
   ]
  },
  {
   "cell_type": "code",
   "execution_count": 41,
   "metadata": {},
   "outputs": [],
   "source": [
    "# save the model\n",
    "# model.save(WORKING_DIR+'/best_model.h5')"
   ]
  },
  {
   "cell_type": "code",
   "execution_count": 83,
   "metadata": {},
   "outputs": [],
   "source": [
    "def idx_to_word(integer, tokenizer):\n",
    "    for word, index in tokenizer.word_index.items():\n",
    "        if index == integer:\n",
    "            return word\n",
    "    return None"
   ]
  },
  {
   "cell_type": "code",
   "execution_count": 114,
   "metadata": {},
   "outputs": [
    {
     "name": "stderr",
     "output_type": "stream",
     "text": [
      "  0%|          | 0/3 [00:00<?, ?it/s]"
     ]
    },
    {
     "name": "stdout",
     "output_type": "stream",
     "text": [
      "1/1 [==============================] - 0s 34ms/step\n",
      "1/1 [==============================] - 0s 31ms/step\n",
      "1/1 [==============================] - 0s 54ms/step\n",
      "1/1 [==============================] - 0s 33ms/step\n",
      "1/1 [==============================] - 0s 50ms/step\n",
      "1/1 [==============================] - 0s 28ms/step\n",
      "1/1 [==============================] - 0s 32ms/step\n",
      "1/1 [==============================] - 0s 29ms/step\n",
      "1/1 [==============================] - 0s 29ms/step\n",
      "1/1 [==============================] - 0s 31ms/step\n",
      "1/1 [==============================] - 0s 30ms/step\n",
      "1/1 [==============================] - 0s 31ms/step\n",
      "1/1 [==============================] - 0s 30ms/step\n",
      "1/1 [==============================] - 0s 30ms/step\n",
      "1/1 [==============================] - 0s 27ms/step\n",
      "1/1 [==============================] - 0s 30ms/step\n",
      "1/1 [==============================] - 0s 33ms/step\n",
      "1/1 [==============================] - 0s 27ms/step\n",
      "1/1 [==============================] - 0s 31ms/step\n",
      "1/1 [==============================] - 0s 28ms/step\n",
      "1/1 [==============================] - 0s 34ms/step\n"
     ]
    },
    {
     "name": "stderr",
     "output_type": "stream",
     "text": [
      " 33%|███▎      | 1/3 [00:01<00:03,  1.79s/it]"
     ]
    },
    {
     "name": "stdout",
     "output_type": "stream",
     "text": [
      "1/1 [==============================] - 0s 38ms/step\n",
      "1/1 [==============================] - 0s 38ms/step\n",
      "1/1 [==============================] - 0s 34ms/step\n",
      "1/1 [==============================] - 0s 31ms/step\n",
      "1/1 [==============================] - 0s 32ms/step\n",
      "1/1 [==============================] - 0s 30ms/step\n",
      "1/1 [==============================] - 0s 30ms/step\n",
      "1/1 [==============================] - 0s 30ms/step\n",
      "1/1 [==============================] - 0s 37ms/step\n",
      "1/1 [==============================] - 0s 41ms/step\n",
      "1/1 [==============================] - 0s 32ms/step\n",
      "1/1 [==============================] - 0s 40ms/step\n",
      "1/1 [==============================] - 0s 39ms/step\n",
      "1/1 [==============================] - 0s 33ms/step\n",
      "1/1 [==============================] - 0s 37ms/step\n",
      "1/1 [==============================] - 0s 36ms/step\n",
      "1/1 [==============================] - 0s 33ms/step\n",
      "1/1 [==============================] - 0s 32ms/step\n",
      "1/1 [==============================] - 0s 31ms/step\n",
      "1/1 [==============================] - 0s 28ms/step\n",
      "1/1 [==============================] - 0s 33ms/step\n"
     ]
    },
    {
     "name": "stderr",
     "output_type": "stream",
     "text": [
      " 67%|██████▋   | 2/3 [00:03<00:01,  1.88s/it]"
     ]
    },
    {
     "name": "stdout",
     "output_type": "stream",
     "text": [
      "1/1 [==============================] - 0s 32ms/step\n",
      "1/1 [==============================] - 0s 29ms/step\n",
      "1/1 [==============================] - 0s 29ms/step\n",
      "1/1 [==============================] - 0s 28ms/step\n",
      "1/1 [==============================] - 0s 29ms/step\n",
      "1/1 [==============================] - 0s 31ms/step\n",
      "1/1 [==============================] - 0s 31ms/step\n",
      "1/1 [==============================] - 0s 31ms/step\n",
      "1/1 [==============================] - 0s 35ms/step\n",
      "1/1 [==============================] - 0s 30ms/step\n",
      "1/1 [==============================] - 0s 34ms/step\n",
      "1/1 [==============================] - 0s 35ms/step\n",
      "1/1 [==============================] - 0s 33ms/step\n",
      "1/1 [==============================] - 0s 29ms/step\n",
      "1/1 [==============================] - 0s 28ms/step\n",
      "1/1 [==============================] - 0s 30ms/step\n",
      "1/1 [==============================] - 0s 30ms/step\n",
      "1/1 [==============================] - 0s 30ms/step\n",
      "1/1 [==============================] - 0s 27ms/step\n",
      "1/1 [==============================] - 0s 28ms/step\n",
      "1/1 [==============================] - 0s 30ms/step\n"
     ]
    },
    {
     "name": "stderr",
     "output_type": "stream",
     "text": [
      "100%|██████████| 3/3 [00:05<00:00,  1.84s/it]"
     ]
    },
    {
     "name": "stdout",
     "output_type": "stream",
     "text": [
      "BLEU-1: 0.045455\n",
      "BLEU-2: 0.000000\n"
     ]
    },
    {
     "name": "stderr",
     "output_type": "stream",
     "text": [
      "\n"
     ]
    }
   ],
   "source": [
    "# generate caption for an image\n",
    "def predict_caption(model, image, tokenizer, max_length):\n",
    "    # add start tag for generation process\n",
    "    in_text = 'startseq'\n",
    "    # iterate over the max length of sequence\n",
    "    for i in range(max_length):\n",
    "        # encode input sequence\n",
    "        sequence = tokenizer.texts_to_sequences([in_text])[0]\n",
    "        # print(sequence)\n",
    "        # pad the sequence\n",
    "        sequence = pad_sequences([sequence], max_length)\n",
    "        # print(sequence,type(sequence), len(sequence[0]))\n",
    "        # print(\"[image, sequence] \",[len(image), len(sequence)] )\n",
    "        # print(image, sequence )\n",
    "        image = np.asarray(image, dtype=np.float32)\n",
    "        # print(type(image), type(sequence) )\n",
    "        \n",
    "        # predict next word\n",
    "        yhat = model.predict([image, sequence], verbose=1)\n",
    "        # get index with high probability\n",
    "        yhat = np.argmax(yhat)\n",
    "        # convert index to word\n",
    "        word = idx_to_word(yhat, tokenizer)\n",
    "        # stop if word not found\n",
    "        if word is None:\n",
    "            break\n",
    "        # append word as input for generating next word\n",
    "        in_text += \" \" + word\n",
    "        # stop if we reach end tag\n",
    "        if word == 'endseq':\n",
    "            break\n",
    "    return in_text\n",
    "\n",
    "# validate with test data\n",
    "actual, predicted = list(), list()\n",
    "for key in tqdm(test):\n",
    "    # get actual caption\n",
    "    captions = mapping[key]\n",
    "    # print(\"===> \",len(feature_1[key]))\n",
    "    # print(tokenizer)\n",
    "    # predict the caption for image\n",
    "    y_pred = predict_caption(model, feature_1[key], tokenizer, max_length)\n",
    "    # split into words\n",
    "    actual_captions = [caption.split() for caption in captions]\n",
    "    y_pred = y_pred.split()\n",
    "    # append to the list\n",
    "    actual.append(actual_captions)\n",
    "    predicted.append(y_pred)\n",
    "# calcuate BLEU score\n",
    "print(\"BLEU-1: %f\" % corpus_bleu(actual, predicted, weights=(1.0, 0, 0, 0)))\n",
    "print(\"BLEU-2: %f\" % corpus_bleu(actual, predicted, weights=(0.5, 0.5, 0, 0)))"
   ]
  },
  {
   "cell_type": "code",
   "execution_count": 121,
   "metadata": {},
   "outputs": [
    {
     "name": "stdout",
     "output_type": "stream",
     "text": [
      "---------------------Actual---------------------\n",
      "startseq black dog carries green toy in his mouth as he walks through the grass endseq\n",
      "startseq black dog carrying something through the grass endseq\n",
      "startseq black dog has blue toy in its mouth endseq\n",
      "startseq dog in grass with blue item in his mouth endseq\n",
      "startseq wet black dog is carrying green toy through the grass endseq\n",
      "1/1 [==============================] - 0s 36ms/step\n",
      "1/1 [==============================] - 0s 42ms/step\n",
      "1/1 [==============================] - 0s 36ms/step\n",
      "1/1 [==============================] - 0s 28ms/step\n",
      "1/1 [==============================] - 0s 27ms/step\n",
      "1/1 [==============================] - 0s 29ms/step\n",
      "1/1 [==============================] - 0s 29ms/step\n",
      "1/1 [==============================] - 0s 29ms/step\n",
      "1/1 [==============================] - 0s 29ms/step\n",
      "1/1 [==============================] - 0s 30ms/step\n",
      "1/1 [==============================] - 0s 40ms/step\n",
      "1/1 [==============================] - 0s 25ms/step\n",
      "1/1 [==============================] - 0s 30ms/step\n",
      "1/1 [==============================] - 0s 29ms/step\n",
      "1/1 [==============================] - 0s 33ms/step\n",
      "1/1 [==============================] - 0s 28ms/step\n",
      "1/1 [==============================] - 0s 30ms/step\n",
      "1/1 [==============================] - 0s 29ms/step\n",
      "1/1 [==============================] - 0s 29ms/step\n",
      "1/1 [==============================] - 0s 31ms/step\n",
      "1/1 [==============================] - 0s 29ms/step\n",
      "--------------------Predicted--------------------\n",
      "startseq playground playground playground playground playground playground playground playground playground playground playground playground playground playground playground playground playground playground playground playground playground\n"
     ]
    }
   ],
   "source": [
    "def generate_caption(feature_id):\n",
    "    \n",
    "    captions = mapping[image_id]\n",
    "    print('---------------------Actual---------------------')\n",
    "    for caption in captions:\n",
    "        print(caption)\n",
    "    # predict the caption\n",
    "    y_pred = predict_caption(model, feature_1[feature_id], tokenizer, max_length)\n",
    "    print('--------------------Predicted--------------------')\n",
    "    print(y_pred)\n",
    "generate_caption(\"1010\")"
   ]
  },
  {
   "cell_type": "code",
   "execution_count": 117,
   "metadata": {},
   "outputs": [
    {
     "data": {
      "text/plain": [
       "[array([74.  , 60.  , 45.  , 67.  , 49.  , 43.  , 93.  , 75.  , 57.  ,\n",
       "        29.86, 29.68, 29.59, 10.  ,  7.  ,  2.  , 20.  ,  4.  , 31.  ])]"
      ]
     },
     "execution_count": 117,
     "metadata": {},
     "output_type": "execute_result"
    }
   ],
   "source": [
    "feature_1['1001']"
   ]
  },
  {
   "cell_type": "code",
   "execution_count": 118,
   "metadata": {},
   "outputs": [
    {
     "ename": "FileNotFoundError",
     "evalue": "[Errno 2] No such file or directory: './weather_Dataset\\\\Images\\\\1001'",
     "output_type": "error",
     "traceback": [
      "\u001b[1;31m---------------------------------------------------------------------------\u001b[0m",
      "\u001b[1;31mFileNotFoundError\u001b[0m                         Traceback (most recent call last)",
      "\u001b[1;32mc:\\Users\\user\\Documents\\DL\\Learn\\Image captioning\\TF\\test_weather_captioning.ipynb Cell 24\u001b[0m line \u001b[0;36m1\n\u001b[1;32m----> <a href='vscode-notebook-cell:/c%3A/Users/user/Documents/DL/Learn/Image%20captioning/TF/test_weather_captioning.ipynb#X36sZmlsZQ%3D%3D?line=0'>1</a>\u001b[0m generate_caption(\u001b[39m\"\u001b[39;49m\u001b[39m1001\u001b[39;49m\u001b[39m\"\u001b[39;49m)\n",
      "\u001b[1;32mc:\\Users\\user\\Documents\\DL\\Learn\\Image captioning\\TF\\test_weather_captioning.ipynb Cell 24\u001b[0m line \u001b[0;36m8\n\u001b[0;32m      <a href='vscode-notebook-cell:/c%3A/Users/user/Documents/DL/Learn/Image%20captioning/TF/test_weather_captioning.ipynb#X36sZmlsZQ%3D%3D?line=5'>6</a>\u001b[0m image_id \u001b[39m=\u001b[39m image_name\u001b[39m.\u001b[39msplit(\u001b[39m'\u001b[39m\u001b[39m.\u001b[39m\u001b[39m'\u001b[39m)[\u001b[39m0\u001b[39m]\n\u001b[0;32m      <a href='vscode-notebook-cell:/c%3A/Users/user/Documents/DL/Learn/Image%20captioning/TF/test_weather_captioning.ipynb#X36sZmlsZQ%3D%3D?line=6'>7</a>\u001b[0m img_path \u001b[39m=\u001b[39m os\u001b[39m.\u001b[39mpath\u001b[39m.\u001b[39mjoin(BASE_DIR, \u001b[39m\"\u001b[39m\u001b[39mImages\u001b[39m\u001b[39m\"\u001b[39m, image_name)\n\u001b[1;32m----> <a href='vscode-notebook-cell:/c%3A/Users/user/Documents/DL/Learn/Image%20captioning/TF/test_weather_captioning.ipynb#X36sZmlsZQ%3D%3D?line=7'>8</a>\u001b[0m image \u001b[39m=\u001b[39m Image\u001b[39m.\u001b[39;49mopen(img_path)\n\u001b[0;32m      <a href='vscode-notebook-cell:/c%3A/Users/user/Documents/DL/Learn/Image%20captioning/TF/test_weather_captioning.ipynb#X36sZmlsZQ%3D%3D?line=8'>9</a>\u001b[0m captions \u001b[39m=\u001b[39m mapping[image_id]\n\u001b[0;32m     <a href='vscode-notebook-cell:/c%3A/Users/user/Documents/DL/Learn/Image%20captioning/TF/test_weather_captioning.ipynb#X36sZmlsZQ%3D%3D?line=9'>10</a>\u001b[0m \u001b[39mprint\u001b[39m(\u001b[39m'\u001b[39m\u001b[39m---------------------Actual---------------------\u001b[39m\u001b[39m'\u001b[39m)\n",
      "File \u001b[1;32mc:\\Users\\user\\anaconda3\\envs\\tf_gpu_2\\lib\\site-packages\\PIL\\Image.py:3243\u001b[0m, in \u001b[0;36mopen\u001b[1;34m(fp, mode, formats)\u001b[0m\n\u001b[0;32m   3240\u001b[0m     filename \u001b[39m=\u001b[39m fp\n\u001b[0;32m   3242\u001b[0m \u001b[39mif\u001b[39;00m filename:\n\u001b[1;32m-> 3243\u001b[0m     fp \u001b[39m=\u001b[39m builtins\u001b[39m.\u001b[39;49mopen(filename, \u001b[39m\"\u001b[39;49m\u001b[39mrb\u001b[39;49m\u001b[39m\"\u001b[39;49m)\n\u001b[0;32m   3244\u001b[0m     exclusive_fp \u001b[39m=\u001b[39m \u001b[39mTrue\u001b[39;00m\n\u001b[0;32m   3246\u001b[0m \u001b[39mtry\u001b[39;00m:\n",
      "\u001b[1;31mFileNotFoundError\u001b[0m: [Errno 2] No such file or directory: './weather_Dataset\\\\Images\\\\1001'"
     ]
    }
   ],
   "source": [
    "generate_caption(\"1001\")"
   ]
  }
 ],
 "metadata": {
  "kernelspec": {
   "display_name": "tf_gpu_2",
   "language": "python",
   "name": "python3"
  },
  "language_info": {
   "codemirror_mode": {
    "name": "ipython",
    "version": 3
   },
   "file_extension": ".py",
   "mimetype": "text/x-python",
   "name": "python",
   "nbconvert_exporter": "python",
   "pygments_lexer": "ipython3",
   "version": "3.9.15"
  }
 },
 "nbformat": 4,
 "nbformat_minor": 2
}
