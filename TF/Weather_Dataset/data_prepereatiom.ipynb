{
 "cells": [
  {
   "cell_type": "code",
   "execution_count": 122,
   "metadata": {},
   "outputs": [],
   "source": [
    "import numpy as np\n",
    "import pandas as pd\n",
    "import os"
   ]
  },
  {
   "cell_type": "code",
   "execution_count": 123,
   "metadata": {},
   "outputs": [],
   "source": [
    "Weather_data = pd.read_csv('./weather_data.csv')\n",
    "Weather_data = Weather_data.drop(['Date'], axis=1)\n",
    "# Weather_data =Weather_data.iloc[:13] "
   ]
  },
  {
   "cell_type": "code",
   "execution_count": null,
   "metadata": {},
   "outputs": [],
   "source": []
  },
  {
   "cell_type": "code",
   "execution_count": 124,
   "metadata": {},
   "outputs": [],
   "source": [
    "weather_captions = pd.read_csv('./captions.csv')\n",
    "# weather_captions = Weather_data.drop(['Serial_ID','Date'], axis=1)\n",
    "# weather_captions = weather_captions.iloc[:13] "
   ]
  },
  {
   "cell_type": "code",
   "execution_count": 125,
   "metadata": {},
   "outputs": [
    {
     "data": {
      "text/plain": [
       "(40455, 1319)"
      ]
     },
     "execution_count": 125,
     "metadata": {},
     "output_type": "execute_result"
    }
   ],
   "source": [
    "len(weather_captions),len(Weather_data)"
   ]
  },
  {
   "cell_type": "code",
   "execution_count": 126,
   "metadata": {},
   "outputs": [
    {
     "data": {
      "text/plain": [
       "array([['1000268201_693b08cb0e.jpg',\n",
       "        'A child in a pink dress is climbing up a set of stairs in an entry way .'],\n",
       "       ['1000268201_693b08cb0e.jpg',\n",
       "        'A girl going into a wooden building .'],\n",
       "       ['1000268201_693b08cb0e.jpg',\n",
       "        'A little girl climbing into a wooden playhouse .'],\n",
       "       ...,\n",
       "       ['997722733_0cb5439472.jpg',\n",
       "        'A person in a red shirt climbing up a rock face covered in assist handles .'],\n",
       "       ['997722733_0cb5439472.jpg', 'A rock climber in a red shirt .'],\n",
       "       ['997722733_0cb5439472.jpg',\n",
       "        'A rock climber practices on a rock climbing wall .']],\n",
       "      dtype=object)"
      ]
     },
     "execution_count": 126,
     "metadata": {},
     "output_type": "execute_result"
    }
   ],
   "source": [
    "weather_captions_np = weather_captions.to_numpy()\n",
    "weather_captions_np"
   ]
  },
  {
   "cell_type": "code",
   "execution_count": 127,
   "metadata": {},
   "outputs": [],
   "source": [
    "Weather_data_np = Weather_data.to_numpy()"
   ]
  },
  {
   "cell_type": "code",
   "execution_count": 128,
   "metadata": {},
   "outputs": [
    {
     "name": "stdout",
     "output_type": "stream",
     "text": [
      "[ 174.  175.  176.  177.  596.  597.  598.  638.  639.  741.  742.  953.\n",
      " 1001. 1107.]\n"
     ]
    }
   ],
   "source": [
    "count =[]\n",
    "for a in range(len(Weather_data_np)):\n",
    "    if '-' in Weather_data_np[a]:\n",
    "        \n",
    "        count = np.append(count,a)\n",
    "\n",
    "print (count)"
   ]
  },
  {
   "cell_type": "code",
   "execution_count": 129,
   "metadata": {},
   "outputs": [],
   "source": [
    "res = [round(float(i)) for i in count]\n",
    "Weather_data_np =np.delete(Weather_data_np, res, axis=0)"
   ]
  },
  {
   "cell_type": "code",
   "execution_count": 130,
   "metadata": {},
   "outputs": [
    {
     "data": {
      "text/plain": [
       "1305"
      ]
     },
     "execution_count": 130,
     "metadata": {},
     "output_type": "execute_result"
    }
   ],
   "source": [
    "len(Weather_data_np)"
   ]
  },
  {
   "cell_type": "code",
   "execution_count": 131,
   "metadata": {},
   "outputs": [
    {
     "data": {
      "text/plain": [
       "array(['1000268201_693b08cb0e.jpg', '1001773457_577c3a7d70.jpg',\n",
       "       '1002674143_1b742ab4b8.jpg', ..., '99679241_adc853a5c0.jpg',\n",
       "       '997338199_7343367d7f.jpg', '997722733_0cb5439472.jpg'],\n",
       "      dtype='<U32')"
      ]
     },
     "execution_count": 131,
     "metadata": {},
     "output_type": "execute_result"
    }
   ],
   "source": [
    "caption_ids =[]\n",
    "serial_index =0\n",
    "for item in range(len (weather_captions_np)):\n",
    "    if (weather_captions_np[item][0] not in caption_ids):    \n",
    "        # serial_id = Weather_data_np[serial_index][len(Weather_data_np[serial_index])-1]   \n",
    "        temp = weather_captions_np[item][0]\n",
    "        # print(temp)\n",
    "        caption_ids = np.append(caption_ids,temp)\n",
    "        serial_index=serial_index+1\n",
    "\n",
    "caption_ids"
   ]
  },
  {
   "cell_type": "code",
   "execution_count": 132,
   "metadata": {},
   "outputs": [
    {
     "name": "stdout",
     "output_type": "stream",
     "text": [
      "8091\n"
     ]
    },
    {
     "data": {
      "text/plain": [
       "array([[74, 60, 45, ..., '4', '31', '1000268201_693b08cb0e.jpg'],\n",
       "       [56, 48, 39, ..., '6', '25', '1001773457_577c3a7d70.jpg'],\n",
       "       [58, 45, 32, ..., '3', '12', '1002674143_1b742ab4b8.jpg'],\n",
       "       ...,\n",
       "       [107, 92, 77, ..., '4', '17', '2245348304_08bc5642f1.jpg'],\n",
       "       [106, 93, 79, ..., '4', '20', '2245618207_fa486ba2b7.jpg'],\n",
       "       [99, 88, 77, ..., '4', '20', '2245914678_1f82fc3d80.jpg']],\n",
       "      dtype=object)"
      ]
     },
     "execution_count": 132,
     "metadata": {},
     "output_type": "execute_result"
    }
   ],
   "source": [
    "v = 0\n",
    "max_captions = len(caption_ids)\n",
    "print(max_captions)\n",
    "for x in range(len(Weather_data_np[:max_captions])):\n",
    "    # np.append(Weather_data_np[x],\"1\")\n",
    "    Weather_data_np[x][len(Weather_data_np[x])-1] = caption_ids[v]\n",
    "    v =v+1\n",
    "\n",
    "    \n",
    "Weather_data_np[:max_captions]"
   ]
  },
  {
   "cell_type": "code",
   "execution_count": 133,
   "metadata": {},
   "outputs": [],
   "source": [
    "# save array into csv file\n",
    "DF = pd.DataFrame(Weather_data_np[:max_captions])\n",
    "DF.to_csv(\"climate_data_with_serials.csv\")"
   ]
  }
 ],
 "metadata": {
  "kernelspec": {
   "display_name": "tf_gpu_2",
   "language": "python",
   "name": "python3"
  },
  "language_info": {
   "codemirror_mode": {
    "name": "ipython",
    "version": 3
   },
   "file_extension": ".py",
   "mimetype": "text/x-python",
   "name": "python",
   "nbconvert_exporter": "python",
   "pygments_lexer": "ipython3",
   "version": "3.9.15"
  }
 },
 "nbformat": 4,
 "nbformat_minor": 2
}
