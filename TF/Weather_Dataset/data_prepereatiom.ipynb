{
 "cells": [
  {
   "cell_type": "code",
   "execution_count": 98,
   "metadata": {},
   "outputs": [],
   "source": [
    "import numpy as np\n",
    "import pandas as pd\n",
    "import os"
   ]
  },
  {
   "cell_type": "code",
   "execution_count": 99,
   "metadata": {},
   "outputs": [],
   "source": [
    "Weather_data = pd.read_csv('./weather_data.csv')\n",
    "Weather_data = Weather_data.drop(['Date'], axis=1)\n",
    "# Weather_data =Weather_data.iloc[:13] "
   ]
  },
  {
   "cell_type": "code",
   "execution_count": 100,
   "metadata": {},
   "outputs": [],
   "source": [
    "weather_captions = pd.read_csv('./captions.csv')\n",
    "# weather_captions = Weather_data.drop(['Serial_ID','Date'], axis=1)\n",
    "# weather_captions = weather_captions.iloc[:13] "
   ]
  },
  {
   "cell_type": "code",
   "execution_count": 101,
   "metadata": {},
   "outputs": [
    {
     "data": {
      "text/plain": [
       "(40455, 1319)"
      ]
     },
     "execution_count": 101,
     "metadata": {},
     "output_type": "execute_result"
    }
   ],
   "source": [
    "len(weather_captions),len(Weather_data)"
   ]
  },
  {
   "cell_type": "code",
   "execution_count": 102,
   "metadata": {},
   "outputs": [
    {
     "data": {
      "text/plain": [
       "array([['1000268201_693b08cb0e.jpg',\n",
       "        'A child in a pink dress is climbing up a set of stairs in an entry way .'],\n",
       "       ['1000268201_693b08cb0e.jpg',\n",
       "        'A girl going into a wooden building .'],\n",
       "       ['1000268201_693b08cb0e.jpg',\n",
       "        'A little girl climbing into a wooden playhouse .'],\n",
       "       ...,\n",
       "       ['997722733_0cb5439472.jpg',\n",
       "        'A person in a red shirt climbing up a rock face covered in assist handles .'],\n",
       "       ['997722733_0cb5439472.jpg', 'A rock climber in a red shirt .'],\n",
       "       ['997722733_0cb5439472.jpg',\n",
       "        'A rock climber practices on a rock climbing wall .']],\n",
       "      dtype=object)"
      ]
     },
     "execution_count": 102,
     "metadata": {},
     "output_type": "execute_result"
    }
   ],
   "source": [
    "weather_captions_np = weather_captions.to_numpy()\n",
    "weather_captions_np"
   ]
  },
  {
   "cell_type": "code",
   "execution_count": 103,
   "metadata": {},
   "outputs": [
    {
     "data": {
      "text/plain": [
       "array([[74, 60, 45, ..., '4', '31', 1001],\n",
       "       [56, 48, 39, ..., '6', '25', 1002],\n",
       "       [58, 45, 32, ..., '3', '12', 1003],\n",
       "       ...,\n",
       "       [107, 92, 77, ..., '4', '17', 2317],\n",
       "       [106, 93, 79, ..., '4', '20', 2318],\n",
       "       [99, 88, 77, ..., '4', '20', 2319]], dtype=object)"
      ]
     },
     "execution_count": 103,
     "metadata": {},
     "output_type": "execute_result"
    }
   ],
   "source": [
    "Weather_data_np = Weather_data.to_numpy()\n",
    "Weather_data_np"
   ]
  },
  {
   "cell_type": "code",
   "execution_count": 106,
   "metadata": {},
   "outputs": [
    {
     "data": {
      "text/plain": [
       "array(['1000268201_693b08cb0e.jpg', '1001773457_577c3a7d70.jpg',\n",
       "       '1002674143_1b742ab4b8.jpg', ..., '99679241_adc853a5c0.jpg',\n",
       "       '997338199_7343367d7f.jpg', '997722733_0cb5439472.jpg'],\n",
       "      dtype='<U32')"
      ]
     },
     "execution_count": 106,
     "metadata": {},
     "output_type": "execute_result"
    }
   ],
   "source": [
    "caption_ids =[]\n",
    "serial_index =0\n",
    "for item in range(len (weather_captions_np)):\n",
    "    if (weather_captions_np[item][0] not in caption_ids):    \n",
    "        # serial_id = Weather_data_np[serial_index][len(Weather_data_np[serial_index])-1]   \n",
    "        temp = weather_captions_np[item][0]\n",
    "        # print(temp)\n",
    "        caption_ids = np.append(caption_ids,temp)\n",
    "        serial_index=serial_index+1\n",
    "\n",
    "caption_ids"
   ]
  },
  {
   "cell_type": "code",
   "execution_count": 107,
   "metadata": {},
   "outputs": [
    {
     "name": "stdout",
     "output_type": "stream",
     "text": [
      "8091\n"
     ]
    },
    {
     "data": {
      "text/plain": [
       "array([[74, 60, 45, ..., '4', '31', '1000268201_693b08cb0e.jpg'],\n",
       "       [56, 48, 39, ..., '6', '25', '1001773457_577c3a7d70.jpg'],\n",
       "       [58, 45, 32, ..., '3', '12', '1002674143_1b742ab4b8.jpg'],\n",
       "       ...,\n",
       "       [107, 92, 77, ..., '4', '17', '2249264723_d08655d9f2.jpg'],\n",
       "       [106, 93, 79, ..., '4', '20', '2249480913_e1695e5c28.jpg'],\n",
       "       [99, 88, 77, ..., '4', '20', '2249865945_f432c8e5da.jpg']],\n",
       "      dtype=object)"
      ]
     },
     "execution_count": 107,
     "metadata": {},
     "output_type": "execute_result"
    }
   ],
   "source": [
    "v = 0\n",
    "max_captions = len(caption_ids)\n",
    "print(max_captions)\n",
    "for x in range(len(Weather_data_np[:max_captions])):\n",
    "    # np.append(Weather_data_np[x],\"1\")\n",
    "    Weather_data_np[x][len(Weather_data_np[x])-1] = caption_ids[v]\n",
    "    v =v+1\n",
    "\n",
    "    \n",
    "Weather_data_np[:max_captions]"
   ]
  },
  {
   "cell_type": "code",
   "execution_count": 108,
   "metadata": {},
   "outputs": [],
   "source": [
    "# save array into csv file\n",
    "DF = pd.DataFrame(Weather_data_np[:max_captions])\n",
    "DF.to_csv(\"data1_2.csv\")"
   ]
  }
 ],
 "metadata": {
  "kernelspec": {
   "display_name": "tf_gpu_2",
   "language": "python",
   "name": "python3"
  },
  "language_info": {
   "codemirror_mode": {
    "name": "ipython",
    "version": 3
   },
   "file_extension": ".py",
   "mimetype": "text/x-python",
   "name": "python",
   "nbconvert_exporter": "python",
   "pygments_lexer": "ipython3",
   "version": "3.9.15"
  }
 },
 "nbformat": 4,
 "nbformat_minor": 2
}
