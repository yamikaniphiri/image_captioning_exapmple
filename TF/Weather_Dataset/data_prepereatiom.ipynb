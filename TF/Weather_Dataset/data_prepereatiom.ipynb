{
 "cells": [
  {
   "cell_type": "code",
   "execution_count": 1,
   "metadata": {},
   "outputs": [],
   "source": [
    "import numpy as np\n",
    "import pandas as pd\n",
    "import os"
   ]
  },
  {
   "cell_type": "code",
   "execution_count": 24,
   "metadata": {},
   "outputs": [],
   "source": [
    "Weather_data = pd.read_csv('./rain_temp_data.csv')\n",
    "# Weather_data = Weather_data.drop(['Date'], axis=1)\n",
    "# Weather_data =Weather_data.iloc[:13] "
   ]
  },
  {
   "cell_type": "code",
   "execution_count": 25,
   "metadata": {},
   "outputs": [
    {
     "data": {
      "text/html": [
       "<div>\n",
       "<style scoped>\n",
       "    .dataframe tbody tr th:only-of-type {\n",
       "        vertical-align: middle;\n",
       "    }\n",
       "\n",
       "    .dataframe tbody tr th {\n",
       "        vertical-align: top;\n",
       "    }\n",
       "\n",
       "    .dataframe thead th {\n",
       "        text-align: right;\n",
       "    }\n",
       "</style>\n",
       "<table border=\"1\" class=\"dataframe\">\n",
       "  <thead>\n",
       "    <tr style=\"text-align: right;\">\n",
       "      <th></th>\n",
       "      <th>prep</th>\n",
       "      <th>high_temp</th>\n",
       "      <th>avg_temp</th>\n",
       "      <th>low_temp</th>\n",
       "    </tr>\n",
       "  </thead>\n",
       "  <tbody>\n",
       "    <tr>\n",
       "      <th>count</th>\n",
       "      <td>38020.000000</td>\n",
       "      <td>38020.000000</td>\n",
       "      <td>38020.000000</td>\n",
       "      <td>38020.000000</td>\n",
       "    </tr>\n",
       "    <tr>\n",
       "      <th>mean</th>\n",
       "      <td>10.099339</td>\n",
       "      <td>26.306169</td>\n",
       "      <td>18.943465</td>\n",
       "      <td>22.623502</td>\n",
       "    </tr>\n",
       "    <tr>\n",
       "      <th>std</th>\n",
       "      <td>17.200383</td>\n",
       "      <td>8.196482</td>\n",
       "      <td>7.640843</td>\n",
       "      <td>7.822056</td>\n",
       "    </tr>\n",
       "    <tr>\n",
       "      <th>min</th>\n",
       "      <td>0.254000</td>\n",
       "      <td>-27.222222</td>\n",
       "      <td>-35.000000</td>\n",
       "      <td>-30.555556</td>\n",
       "    </tr>\n",
       "    <tr>\n",
       "      <th>25%</th>\n",
       "      <td>1.016000</td>\n",
       "      <td>25.555556</td>\n",
       "      <td>18.333333</td>\n",
       "      <td>22.222222</td>\n",
       "    </tr>\n",
       "    <tr>\n",
       "      <th>50%</th>\n",
       "      <td>3.556000</td>\n",
       "      <td>28.888889</td>\n",
       "      <td>21.666667</td>\n",
       "      <td>25.555556</td>\n",
       "    </tr>\n",
       "    <tr>\n",
       "      <th>75%</th>\n",
       "      <td>11.430000</td>\n",
       "      <td>30.555556</td>\n",
       "      <td>23.333333</td>\n",
       "      <td>26.666667</td>\n",
       "    </tr>\n",
       "    <tr>\n",
       "      <th>max</th>\n",
       "      <td>307.340000</td>\n",
       "      <td>46.111111</td>\n",
       "      <td>32.777778</td>\n",
       "      <td>37.777778</td>\n",
       "    </tr>\n",
       "  </tbody>\n",
       "</table>\n",
       "</div>"
      ],
      "text/plain": [
       "               prep     high_temp      avg_temp      low_temp\n",
       "count  38020.000000  38020.000000  38020.000000  38020.000000\n",
       "mean      10.099339     26.306169     18.943465     22.623502\n",
       "std       17.200383      8.196482      7.640843      7.822056\n",
       "min        0.254000    -27.222222    -35.000000    -30.555556\n",
       "25%        1.016000     25.555556     18.333333     22.222222\n",
       "50%        3.556000     28.888889     21.666667     25.555556\n",
       "75%       11.430000     30.555556     23.333333     26.666667\n",
       "max      307.340000     46.111111     32.777778     37.777778"
      ]
     },
     "execution_count": 25,
     "metadata": {},
     "output_type": "execute_result"
    }
   ],
   "source": [
    "Weather_data.describe()"
   ]
  },
  {
   "cell_type": "code",
   "execution_count": 26,
   "metadata": {},
   "outputs": [],
   "source": [
    "weather_captions = pd.read_csv('./captions.csv')\n",
    "# weather_captions = Weather_data.drop(['Serial_ID','Date'], axis=1)\n",
    "# weather_captions = weather_captions.iloc[:13] "
   ]
  },
  {
   "cell_type": "code",
   "execution_count": 27,
   "metadata": {},
   "outputs": [
    {
     "data": {
      "text/plain": [
       "(6525, 38020)"
      ]
     },
     "execution_count": 27,
     "metadata": {},
     "output_type": "execute_result"
    }
   ],
   "source": [
    "len(weather_captions),len(Weather_data)"
   ]
  },
  {
   "cell_type": "code",
   "execution_count": 28,
   "metadata": {},
   "outputs": [
    {
     "data": {
      "text/plain": [
       "array([['1000268201_693b08cb0e.jpg',\n",
       "        'A child in a pink dress is climbing up a set of stairs in an entry way .'],\n",
       "       ['1000268201_693b08cb0e.jpg',\n",
       "        'A girl going into a wooden building .'],\n",
       "       ['1000268201_693b08cb0e.jpg',\n",
       "        'A little girl climbing into a wooden playhouse .'],\n",
       "       ...,\n",
       "       ['2245914678_1f82fc3d80.jpg',\n",
       "        'a red haired girl with a black and white striped shirt talking on a cellphone'],\n",
       "       ['2245914678_1f82fc3d80.jpg',\n",
       "        'A woman with bright red hair and striped clothing talks on a phone .'],\n",
       "       ['2245914678_1f82fc3d80.jpg',\n",
       "        'A woman with red hair and a black striped shirt talking on the phone .']],\n",
       "      dtype=object)"
      ]
     },
     "execution_count": 28,
     "metadata": {},
     "output_type": "execute_result"
    }
   ],
   "source": [
    "weather_captions_np = weather_captions.to_numpy()\n",
    "weather_captions_np"
   ]
  },
  {
   "cell_type": "code",
   "execution_count": 29,
   "metadata": {},
   "outputs": [],
   "source": [
    "Weather_data_np = Weather_data.to_numpy()"
   ]
  },
  {
   "cell_type": "code",
   "execution_count": 30,
   "metadata": {},
   "outputs": [
    {
     "name": "stdout",
     "output_type": "stream",
     "text": [
      "[]\n"
     ]
    }
   ],
   "source": [
    "count =[]\n",
    "for a in range(len(Weather_data_np)):\n",
    "    if '-' in Weather_data_np[a]:\n",
    "        \n",
    "        count = np.append(count,a)\n",
    "\n",
    "print (count)"
   ]
  },
  {
   "cell_type": "code",
   "execution_count": 31,
   "metadata": {},
   "outputs": [],
   "source": [
    "res = [round(float(i)) for i in count]\n",
    "Weather_data_np =np.delete(Weather_data_np, res, axis=0)"
   ]
  },
  {
   "cell_type": "code",
   "execution_count": 32,
   "metadata": {},
   "outputs": [
    {
     "data": {
      "text/plain": [
       "38020"
      ]
     },
     "execution_count": 32,
     "metadata": {},
     "output_type": "execute_result"
    }
   ],
   "source": [
    "len(Weather_data_np)"
   ]
  },
  {
   "cell_type": "code",
   "execution_count": 33,
   "metadata": {},
   "outputs": [
    {
     "data": {
      "text/plain": [
       "array(['1000268201_693b08cb0e.jpg', '1001773457_577c3a7d70.jpg',\n",
       "       '1002674143_1b742ab4b8.jpg', ..., '2245348304_08bc5642f1.jpg',\n",
       "       '2245618207_fa486ba2b7.jpg', '2245914678_1f82fc3d80.jpg'],\n",
       "      dtype='<U32')"
      ]
     },
     "execution_count": 33,
     "metadata": {},
     "output_type": "execute_result"
    }
   ],
   "source": [
    "caption_ids =[]\n",
    "serial_index =0\n",
    "for item in range(len (weather_captions_np)):\n",
    "    if (weather_captions_np[item][0] not in caption_ids):    \n",
    "        # serial_id = Weather_data_np[serial_index][len(Weather_data_np[serial_index])-1]   \n",
    "        temp = weather_captions_np[item][0]\n",
    "        # print(temp)\n",
    "        caption_ids = np.append(caption_ids,temp)\n",
    "        serial_index=serial_index+1\n",
    "\n",
    "caption_ids"
   ]
  },
  {
   "cell_type": "code",
   "execution_count": 36,
   "metadata": {},
   "outputs": [],
   "source": [
    "type(caption_ids)\n",
    "df = pd.DataFrame(caption_ids)\n",
    "df.to_csv('caption_ids.csv', index=False)"
   ]
  },
  {
   "cell_type": "code",
   "execution_count": 12,
   "metadata": {},
   "outputs": [
    {
     "data": {
      "text/plain": [
       "array([[ 1.016     , 25.55555556, 22.22222222, 23.88888889],\n",
       "       [ 2.54      , 26.11111111, 22.22222222, 24.44444444],\n",
       "       [ 2.54      , 26.66666667, 22.22222222, 24.44444444],\n",
       "       [ 3.556     , 26.66666667, 22.22222222, 24.44444444],\n",
       "       [ 3.556     , 25.55555556, 21.66666667, 23.33333333],\n",
       "       [ 0.508     , 24.44444444, 22.22222222, 23.33333333],\n",
       "       [ 0.254     , 25.55555556, 17.77777778, 21.66666667],\n",
       "       [ 0.508     , 23.88888889, 20.55555556, 22.22222222],\n",
       "       [ 0.254     , 32.77777778, 20.        , 23.33333333],\n",
       "       [ 0.254     , 27.22222222, 21.11111111, 24.44444444],\n",
       "       [ 0.254     , 27.22222222, 22.22222222, 25.        ],\n",
       "       [ 1.778     , 27.22222222, 21.11111111, 24.44444444],\n",
       "       [ 0.254     , 26.66666667, 21.66666667, 24.44444444]])"
      ]
     },
     "execution_count": 12,
     "metadata": {},
     "output_type": "execute_result"
    }
   ],
   "source": [
    "Weather_data_np"
   ]
  },
  {
   "cell_type": "code",
   "execution_count": 23,
   "metadata": {},
   "outputs": [
    {
     "name": "stdout",
     "output_type": "stream",
     "text": [
      "['1000268201_693b08cb0e.jpg' '1001773457_577c3a7d70.jpg'\n",
      " '1002674143_1b742ab4b8.jpg'] 333---\n",
      "13\n",
      "1.0\n"
     ]
    },
    {
     "ename": "IndexError",
     "evalue": "index 4 is out of bounds for axis 0 with size 4",
     "output_type": "error",
     "traceback": [
      "\u001b[1;31m---------------------------------------------------------------------------\u001b[0m",
      "\u001b[1;31mIndexError\u001b[0m                                Traceback (most recent call last)",
      "Cell \u001b[1;32mIn[23], line 13\u001b[0m\n\u001b[0;32m     11\u001b[0m     \u001b[38;5;28mprint\u001b[39m(\u001b[38;5;28mlen\u001b[39m(Weather_data_np))\n\u001b[0;32m     12\u001b[0m     \u001b[38;5;28mprint\u001b[39m(Weather_data_np[x][\u001b[38;5;28mlen\u001b[39m(Weather_data_np[x])\u001b[38;5;241m-\u001b[39m\u001b[38;5;241m1\u001b[39m])\n\u001b[1;32m---> 13\u001b[0m     \u001b[43mWeather_data_np\u001b[49m\u001b[43m[\u001b[49m\u001b[43mx\u001b[49m\u001b[43m]\u001b[49m\u001b[43m[\u001b[49m\u001b[38;5;28;43mlen\u001b[39;49m\u001b[43m(\u001b[49m\u001b[43mWeather_data_np\u001b[49m\u001b[43m[\u001b[49m\u001b[43mx\u001b[49m\u001b[43m]\u001b[49m\u001b[43m)\u001b[49m\u001b[43m]\u001b[49m \u001b[38;5;241m=\u001b[39m \u001b[38;5;241m1\u001b[39m\n\u001b[0;32m     15\u001b[0m     v \u001b[38;5;241m=\u001b[39mv\u001b[38;5;241m+\u001b[39m\u001b[38;5;241m1\u001b[39m\n\u001b[0;32m     17\u001b[0m Weather_data_np[:max_captions]\n",
      "\u001b[1;31mIndexError\u001b[0m: index 4 is out of bounds for axis 0 with size 4"
     ]
    }
   ],
   "source": [
    "v = 0\n",
    "# Weather_data_np = list(Weather_data_np)\n",
    "max_captions = len(caption_ids)\n",
    "print(caption_ids,\"333---\")\n",
    "\n",
    "# print(type(Weather_data_np))\n",
    "# print(max_captions)\n",
    "for x in range(len(Weather_data_np[:max_captions])):\n",
    "    # Weather_data_np =np.append(Weather_data_np[x],\"1\")   \n",
    "    \n",
    "    print(len(Weather_data_np))\n",
    "    print(Weather_data_np[x][len(Weather_data_np[x])-1])\n",
    "    Weather_data_np[x][len(Weather_data_np[x])] = 1\n",
    "\n",
    "    v =v+1\n",
    "\n",
    "Weather_data_np[:max_captions]"
   ]
  },
  {
   "cell_type": "code",
   "execution_count": 14,
   "metadata": {},
   "outputs": [],
   "source": [
    "# save array into csv file\n",
    "DF = pd.DataFrame(Weather_data_np[:max_captions])\n",
    "DF.to_csv(\"climate_data_with_serials.csv\")"
   ]
  }
 ],
 "metadata": {
  "kernelspec": {
   "display_name": "tf_gpu_2",
   "language": "python",
   "name": "python3"
  },
  "language_info": {
   "codemirror_mode": {
    "name": "ipython",
    "version": 3
   },
   "file_extension": ".py",
   "mimetype": "text/x-python",
   "name": "python",
   "nbconvert_exporter": "python",
   "pygments_lexer": "ipython3",
   "version": "3.9.15"
  }
 },
 "nbformat": 4,
 "nbformat_minor": 2
}
