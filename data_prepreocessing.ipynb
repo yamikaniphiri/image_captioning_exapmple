{
 "cells": [
  {
   "cell_type": "code",
   "execution_count": 5,
   "metadata": {},
   "outputs": [],
   "source": [
    "import os\n",
    "import pandas\n",
    "import spacy\n",
    "import torch\n",
    "from  torch.nn.utils.rnn import pack_sequence\n",
    "from torch.utils.data import DataLoader,Dataset\n",
    "from PIL import Image\n",
    "\n"
   ]
  },
  {
   "cell_type": "code",
   "execution_count": null,
   "metadata": {},
   "outputs": [],
   "source": [
    "class FlickrDataset(Dataset):\n",
    "    def __init__(self,root_dir, caption_file,transform=None,freq_threshold=5) :\n",
    "        self.root_dir =root_dir\n",
    "        self.caption_dataFrame = caption_file\n",
    "        self.transfroms= transform\n",
    "        #getting images and their captions\n",
    "        self.imgs = self.caption_dataFrame[\"image\"]\n",
    "        self.captions = self.caption_dataFrame[\"captions\"]\n",
    "\n",
    "        #initialize vocalary and build vocab\n",
    "        self.vocab = Vocabulary(freq_threshold)\n",
    "        self.vocab.biuld_vocabulary(self.captions.tolist())\n",
    "    \n",
    "    def __len__(self):\n",
    "        return len(self.caption_dataFrame)\n",
    "    \n",
    "    def __getitem__(self, index):\n",
    "        caption = self.captions[index]\n",
    "        img_id = self.imgs[index]\n",
    "        img = Image.open(os.path.join(self.root_dir,img_id)).convert(\"RGB\")\n",
    "        \n",
    "        if self.transfroms is not None:\n",
    "            img = self.transfroms(img)\n",
    "        numericalized_caption = [self.vocab.stoi[\"<SOS>\"]]\n",
    "        numericalized_caption += self.vocab.numericalized_caption(caption)\n",
    "        numericalized_caption.append(self.vocab.stoi[\"<EOS>\"])\n",
    "\n",
    "        return img, torch.tensor(numericalized_caption)\n",
    "\n",
    "        "
   ]
  }
 ],
 "metadata": {
  "kernelspec": {
   "display_name": "pytourch-gpu2",
   "language": "python",
   "name": "python3"
  },
  "language_info": {
   "codemirror_mode": {
    "name": "ipython",
    "version": 3
   },
   "file_extension": ".py",
   "mimetype": "text/x-python",
   "name": "python",
   "nbconvert_exporter": "python",
   "pygments_lexer": "ipython3",
   "version": "3.10.8"
  }
 },
 "nbformat": 4,
 "nbformat_minor": 2
}
